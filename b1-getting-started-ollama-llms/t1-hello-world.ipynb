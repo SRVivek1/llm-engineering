{
 "cells": [
  {
   "cell_type": "markdown",
   "id": "e5e3e5a4",
   "metadata": {},
   "source": [
    "# Getting started with integrating local LLM models into our application"
   ]
  },
  {
   "cell_type": "markdown",
   "id": "595080d3",
   "metadata": {},
   "source": [
    "# Setting up common imports and building resource required for connection with LLM"
   ]
  },
  {
   "cell_type": "code",
   "execution_count": 11,
   "id": "e8797118",
   "metadata": {},
   "outputs": [],
   "source": [
    "# App basic setup\n",
    "\n",
    "# Parse a .env file and then load all the variables found as environment variables.\n",
    "import os\n",
    "from dotenv import load_dotenv\n",
    "\n",
    "# OpenIAI client library\n",
    "from openai import OpenAI\n"
   ]
  },
  {
   "cell_type": "markdown",
   "id": "9e406573",
   "metadata": {},
   "source": [
    "# Load API Keys\n",
    "* OPENAI_API_KEY:\n",
    "  * This is the authentication key used to authorize the application.\n",
    "  * Note: it must have OPENAI_API_KEY variable defined, even if we are using Ollama local LLMs. \n",
    "  * Set a dummy value if needed.\n",
    "    * OPENAI_API_KEY=\"sk-proj-dummy-key\""
   ]
  },
  {
   "cell_type": "code",
   "execution_count": 12,
   "id": "16498444",
   "metadata": {},
   "outputs": [
    {
     "name": "stdout",
     "output_type": "stream",
     "text": [
      "API key found and looks good so far!\n"
     ]
    }
   ],
   "source": [
    "# Load environment variables in a file called .env\n",
    "\n",
    "load_dotenv(override=True)\n",
    "api_key = os.getenv('OPENAI_API_KEY')\n",
    "\n",
    "# Check the key\n",
    "\n",
    "if not api_key:\n",
    "    print(\"No API key was found - please head over to the troubleshooting notebook in this folder to identify & fix!\")\n",
    "elif not api_key.startswith(\"sk-proj-\"):\n",
    "    print(\"An API key was found, but it doesn't start sk-proj-; please check you're using the right key - see troubleshooting notebook\")\n",
    "elif api_key.strip() != api_key:\n",
    "    print(\"An API key was found, but it looks like it might have space or tab characters at the start or end - please remove them - see troubleshooting notebook\")\n",
    "else:\n",
    "    print(\"API key found and looks good so far!\")"
   ]
  },
  {
   "cell_type": "markdown",
   "id": "90b5b608",
   "metadata": {},
   "source": [
    "# Build the client"
   ]
  },
  {
   "cell_type": "code",
   "execution_count": 13,
   "id": "c75cea2a",
   "metadata": {},
   "outputs": [],
   "source": [
    "# connection details\n",
    "OLLAMA_BASE_URL = \"http://localhost:11434/v1\"\n",
    "\n",
    "# Initialize OpenAI client with custom base URL for Ollama\n",
    "client = OpenAI(base_url=OLLAMA_BASE_URL)"
   ]
  },
  {
   "cell_type": "markdown",
   "id": "d3e876a5",
   "metadata": {},
   "source": [
    "* Bare minimum app to connect with AI LLM models."
   ]
  },
  {
   "cell_type": "code",
   "execution_count": 14,
   "id": "18ba1fd8",
   "metadata": {},
   "outputs": [
    {
     "name": "stdout",
     "output_type": "stream",
     "text": [
      "Okay, here’s a fun fact about programmers:\n",
      "\n",
      "**The average programmer spends 23% of their time on technical glitches and debugging!** \n",
      "\n",
      "Seriously! It’s a massive part of their job. They’re constantly chasing down bugs, testing, and ensuring their code works as expected – it's a very rewarding (and sometimes frustrating!) process.\n",
      "\n",
      "Want to know another one? Let me know if you'd like to hear about something else! 😊\n"
     ]
    }
   ],
   "source": [
    "# Construct the request payload\n",
    "MODEL_NAME = \"gemma3:1b\"\n",
    "payload = [{\"role\": \"user\", \"content\": \"Tell me a fun fact about programmers.\"}]\n",
    "\n",
    "# Connect to ollama and read response from the LLM model\n",
    "response = client.chat.completions.create(model=MODEL_NAME, messages=payload)\n",
    "\n",
    "# print response\n",
    "print(response.choices[0].message.content)\n"
   ]
  }
 ],
 "metadata": {
  "kernelspec": {
   "display_name": "LLM Eng (.venv)",
   "language": "python",
   "name": "llm-eng"
  },
  "language_info": {
   "codemirror_mode": {
    "name": "ipython",
    "version": 3
   },
   "file_extension": ".py",
   "mimetype": "text/x-python",
   "name": "python",
   "nbconvert_exporter": "python",
   "pygments_lexer": "ipython3",
   "version": "3.12.12"
  }
 },
 "nbformat": 4,
 "nbformat_minor": 5
}
