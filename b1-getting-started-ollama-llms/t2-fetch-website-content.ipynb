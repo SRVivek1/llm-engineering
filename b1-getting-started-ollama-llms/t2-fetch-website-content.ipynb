{
 "cells": [
  {
   "cell_type": "markdown",
   "id": "fc5c87ac",
   "metadata": {},
   "source": [
    "# Getting started with our very first project - Fetch content of a website"
   ]
  },
  {
   "cell_type": "markdown",
   "id": "0c52b9c8",
   "metadata": {},
   "source": [
    "# Setting up imports\n",
    "# Reload imported local modules\n",
    "* Add this magic command to the first cell of your notebook (before any imports). \n",
    "* It auto-reloads modules on file changes."
   ]
  },
  {
   "cell_type": "code",
   "execution_count": 50,
   "id": "24bc597e",
   "metadata": {},
   "outputs": [],
   "source": [
    "import os\n",
    "from dotenv import load_dotenv\n",
    "from openai import OpenAI\n",
    "\n",
    "# Reload local modules on changes\n",
    "import importlib\n",
    "\n",
    "# Scrapper library\n",
    "#from scraper import fetch_text_contents\n",
    "import scraper as scraper\n",
    "\n",
    "# TBU\n",
    "from IPython.display import Markdown, display\n"
   ]
  },
  {
   "cell_type": "markdown",
   "id": "092ff622",
   "metadata": {},
   "source": [
    "# Reload local modules as the"
   ]
  },
  {
   "cell_type": "code",
   "execution_count": 51,
   "id": "4641faa0",
   "metadata": {},
   "outputs": [
    {
     "data": {
      "text/plain": [
       "<module 'scraper' from '/home/srvivek/wrkspace/llm-engineering/b1-getting-started-ollama-llms/scraper.py'>"
      ]
     },
     "execution_count": 51,
     "metadata": {},
     "output_type": "execute_result"
    }
   ],
   "source": [
    "# Reload the local scraper module.\n",
    "importlib.reload(scraper)"
   ]
  },
  {
   "cell_type": "markdown",
   "id": "46b0493d",
   "metadata": {},
   "source": [
    "# Load the env variables having OPENAI_API_KEY"
   ]
  },
  {
   "cell_type": "code",
   "execution_count": 52,
   "id": "31ff3f9c",
   "metadata": {},
   "outputs": [
    {
     "name": "stdout",
     "output_type": "stream",
     "text": [
      "API key found and looks good so far!\n"
     ]
    }
   ],
   "source": [
    "# Load environment variables in a file called .env\n",
    "\n",
    "load_dotenv(override=True)\n",
    "api_key = os.getenv('OPENAI_API_KEY')\n",
    "\n",
    "# Check the key\n",
    "\n",
    "if not api_key:\n",
    "    print(\"No API key was found - please head over to the troubleshooting notebook in this folder to identify & fix!\")\n",
    "elif not api_key.startswith(\"sk-proj-\"):\n",
    "    print(\"An API key was found, but it doesn't start sk-proj-; please check you're using the right key - see troubleshooting notebook\")\n",
    "elif api_key.strip() != api_key:\n",
    "    print(\"An API key was found, but it looks like it might have space or tab characters at the start or end - please remove them - see troubleshooting notebook\")\n",
    "else:\n",
    "    print(\"API key found and looks good so far!\")"
   ]
  },
  {
   "cell_type": "markdown",
   "id": "91c8088b",
   "metadata": {},
   "source": [
    "# Fetch website content"
   ]
  },
  {
   "cell_type": "code",
   "execution_count": 53,
   "id": "b33105fc",
   "metadata": {},
   "outputs": [
    {
     "name": "stdout",
     "output_type": "stream",
     "text": [
      "Home - Edward Donner\n",
      "\n",
      "Home\n",
      "Connect Four\n",
      "Outsmart\n",
      "An arena that pits LLMs against each other in a battle of diplomacy and deviousness\n",
      "About\n",
      "Posts\n",
      "Well, hi there.\n",
      "I’m Ed. I like writing code and experimenting with LLMs, and hopefully you’re here because you do too. I also enjoy DJing (but I’m badly out of practice), amateur electronic music production (\n",
      "very\n",
      "amateur) and losing myself in\n",
      "Hacker News\n",
      ", nodding my head sagely to things I only half understand.\n",
      "I’m the co-founder and CTO of\n",
      "Nebula.io\n",
      ". We’re applying AI to a field where it can make a massive, positive impact: helping people discover their potential and pursue their reason for being. Recruiters use our product today to source, understand, engage and manage talent. I’m previously the founder and CEO of AI startup untapt,\n",
      "acquired in 2021\n",
      ".\n",
      "We work with groundbreaking, proprietary LLMs verticalized for talent, we’ve\n",
      "patented\n",
      "our matching model, and our award-winning platform has happy customers and tons of press coverage.\n",
      "Connect\n",
      "with me for more!\n",
      "September 15, 2025\n",
      "AI in Production: Gen AI and Agentic AI on AWS at scale\n",
      "May 28, 2025\n",
      "Connecting my courses – become an LLM expert and leader\n",
      "May 18, 2025\n",
      "2025 AI Executive Briefing\n",
      "April 21, 2025\n",
      "The Complete Agentic AI Engineering Course\n",
      "Navigation\n",
      "Home\n",
      "Connect Four\n",
      "Outsmart\n",
      "An arena that pits LLMs against each other in a battle of diplomacy and deviousness\n",
      "About\n",
      "Posts\n",
      "Get in touch\n",
      "ed [at] edwarddonner [dot] com\n",
      "www.edwarddonner.com\n",
      "Follow me\n",
      "LinkedIn\n",
      "Twitter\n",
      "Facebook\n",
      "Subscribe to newsletter\n",
      "Type your email…\n",
      "Subscribe\n"
     ]
    }
   ],
   "source": [
    "response = scraper.fetch_text_contents(\"https://edwarddonner.com\")\n",
    "\n",
    "# Print the first 500 characters of the fetched content\n",
    "print(response)"
   ]
  },
  {
   "cell_type": "markdown",
   "id": "b22a22f2",
   "metadata": {},
   "source": [
    "# Fetch all links on the website"
   ]
  },
  {
   "cell_type": "code",
   "execution_count": 54,
   "id": "bc97f154",
   "metadata": {},
   "outputs": [
    {
     "name": "stdout",
     "output_type": "stream",
     "text": [
      "1. https://edwarddonner.com/\n",
      "2. https://edwarddonner.com/connect-four/\n",
      "3. https://edwarddonner.com/outsmart/\n",
      "4. https://edwarddonner.com/about-me-and-about-nebula/\n",
      "5. https://edwarddonner.com/posts/\n",
      "6. https://edwarddonner.com/\n",
      "7. https://news.ycombinator.com\n",
      "8. https://nebula.io/?utm_source=ed&utm_medium=referral\n",
      "9. https://www.prnewswire.com/news-releases/wynden-stark-group-acquires-nyc-venture-backed-tech-startup-untapt-301269512.html\n",
      "10. https://patents.google.com/patent/US20210049536A1/\n",
      "11. https://www.linkedin.com/in/eddonner/\n",
      "12. https://edwarddonner.com/2025/09/15/ai-in-production-gen-ai-and-agentic-ai-on-aws-at-scale/\n",
      "13. https://edwarddonner.com/2025/09/15/ai-in-production-gen-ai-and-agentic-ai-on-aws-at-scale/\n",
      "14. https://edwarddonner.com/2025/05/28/connecting-my-courses-become-an-llm-expert-and-leader/\n",
      "15. https://edwarddonner.com/2025/05/28/connecting-my-courses-become-an-llm-expert-and-leader/\n",
      "16. https://edwarddonner.com/2025/05/18/2025-ai-executive-briefing/\n",
      "17. https://edwarddonner.com/2025/05/18/2025-ai-executive-briefing/\n",
      "18. https://edwarddonner.com/2025/04/21/the-complete-agentic-ai-engineering-course/\n",
      "19. https://edwarddonner.com/2025/04/21/the-complete-agentic-ai-engineering-course/\n",
      "20. https://edwarddonner.com/\n",
      "21. https://edwarddonner.com/connect-four/\n",
      "22. https://edwarddonner.com/outsmart/\n",
      "23. https://edwarddonner.com/about-me-and-about-nebula/\n",
      "24. https://edwarddonner.com/posts/\n",
      "25. mailto:hello@mygroovydomain.com\n",
      "26. https://www.linkedin.com/in/eddonner/\n",
      "27. https://twitter.com/edwarddonner\n",
      "28. https://www.facebook.com/edward.donner.52\n"
     ]
    }
   ],
   "source": [
    "response = scraper.fetch_website_links(\"https://edwarddonner.com\")\n",
    "\n",
    "# Print the first 500 characters of the fetched content\n",
    "i = 1\n",
    "for link in response:\n",
    "    print(i, end=\". \")\n",
    "    print(link, end=\"\\n\")\n",
    "    i += 1"
   ]
  },
  {
   "cell_type": "markdown",
   "id": "b2464321",
   "metadata": {},
   "source": [
    "# Another website"
   ]
  },
  {
   "cell_type": "code",
   "execution_count": 55,
   "id": "c83704a7",
   "metadata": {},
   "outputs": [
    {
     "name": "stdout",
     "output_type": "stream",
     "text": [
      "1. https://about.google/?fg=1&utm_source=google-IN&utm_medium=referral&utm_campaign=hp-header\n",
      "2. https://store.google.com/IN?utm_source=hp_header&utm_medium=google_ooo&utm_campaign=GS100042&hl=en-IN\n",
      "3. https://mail.google.com/mail/&ogbl\n",
      "4. https://www.google.com/imghp?hl=en&ogbl\n",
      "5. https://www.google.co.in/intl/en/about/products\n",
      "6. https://accounts.google.com/ServiceLogin?hl=en&passive=true&continue=https://www.google.com/&ec=futura_exp_og_so_72776762_e\n",
      "7. https://www.google.com/setprefs?sig=0_oJHyMuofka6TKeOhrz10foO5hRU%3D&hl=hi&source=homepage&sa=X&ved=0ahUKEwii4OfMxsyQAxU9SmwGHZ7wELoQ2ZgBCBg\n",
      "8. https://www.google.com/setprefs?sig=0_oJHyMuofka6TKeOhrz10foO5hRU%3D&hl=bn&source=homepage&sa=X&ved=0ahUKEwii4OfMxsyQAxU9SmwGHZ7wELoQ2ZgBCBk\n",
      "9. https://www.google.com/setprefs?sig=0_oJHyMuofka6TKeOhrz10foO5hRU%3D&hl=te&source=homepage&sa=X&ved=0ahUKEwii4OfMxsyQAxU9SmwGHZ7wELoQ2ZgBCBo\n",
      "10. https://www.google.com/setprefs?sig=0_oJHyMuofka6TKeOhrz10foO5hRU%3D&hl=mr&source=homepage&sa=X&ved=0ahUKEwii4OfMxsyQAxU9SmwGHZ7wELoQ2ZgBCBs\n",
      "11. https://www.google.com/setprefs?sig=0_oJHyMuofka6TKeOhrz10foO5hRU%3D&hl=ta&source=homepage&sa=X&ved=0ahUKEwii4OfMxsyQAxU9SmwGHZ7wELoQ2ZgBCBw\n",
      "12. https://www.google.com/setprefs?sig=0_oJHyMuofka6TKeOhrz10foO5hRU%3D&hl=gu&source=homepage&sa=X&ved=0ahUKEwii4OfMxsyQAxU9SmwGHZ7wELoQ2ZgBCB0\n",
      "13. https://www.google.com/setprefs?sig=0_oJHyMuofka6TKeOhrz10foO5hRU%3D&hl=kn&source=homepage&sa=X&ved=0ahUKEwii4OfMxsyQAxU9SmwGHZ7wELoQ2ZgBCB4\n",
      "14. https://www.google.com/setprefs?sig=0_oJHyMuofka6TKeOhrz10foO5hRU%3D&hl=ml&source=homepage&sa=X&ved=0ahUKEwii4OfMxsyQAxU9SmwGHZ7wELoQ2ZgBCB8\n",
      "15. https://www.google.com/setprefs?sig=0_oJHyMuofka6TKeOhrz10foO5hRU%3D&hl=pa&source=homepage&sa=X&ved=0ahUKEwii4OfMxsyQAxU9SmwGHZ7wELoQ2ZgBCCA\n",
      "16. https://www.google.com/intl/en_in/ads/?subid=ww-ww-et-g-awa-a-g_hpafoot1_1!o2&utm_source=google.com&utm_medium=referral&utm_campaign=google_hpafooter&fg=1\n",
      "17. https://www.google.com/services/?subid=ww-ww-et-g-awa-a-g_hpbfoot1_1!o2&utm_source=google.com&utm_medium=referral&utm_campaign=google_hpbfooter&fg=1\n",
      "18. https://google.com/search/howsearchworks/?fg=1\n",
      "19. https://policies.google.com/privacy?hl=en-IN&fg=1\n",
      "20. https://policies.google.com/terms?hl=en-IN&fg=1\n",
      "21. https://www.google.com/preferences?hl=en-IN&fg=1\n",
      "22. /advanced_search?hl=en-IN&fg=1\n",
      "23. /history/privacyadvisor/search/unauth?utm_source=googlemenu&fg=1&cctld=com\n",
      "24. /history/optout?hl=en-IN&fg=1\n",
      "25. https://support.google.com/websearch/?p=ws_results_help&hl=en-IN&fg=1\n"
     ]
    }
   ],
   "source": [
    "response = scraper.fetch_website_links(\"https://google.co.in\")\n",
    "\n",
    "# print links\n",
    "i = 1\n",
    "for link in response:\n",
    "    print(i, end=\". \")\n",
    "    print(link, end=\"\\n\")\n",
    "    i += 1"
   ]
  },
  {
   "cell_type": "markdown",
   "id": "6ced41ef",
   "metadata": {},
   "source": [
    "# Youtube shorts"
   ]
  },
  {
   "cell_type": "code",
   "execution_count": 56,
   "id": "64f912ff",
   "metadata": {},
   "outputs": [
    {
     "name": "stdout",
     "output_type": "stream",
     "text": [
      "1. /\n",
      "2. /\n",
      "3. https://www.youtube.com/about/\n",
      "4. https://www.youtube.com/about/press/\n",
      "5. https://www.youtube.com/about/copyright/\n",
      "6. /t/contact_us/\n",
      "7. https://www.youtube.com/creators/\n",
      "8. https://www.youtube.com/ads/\n",
      "9. https://developers.google.com/youtube\n",
      "10. /t/terms\n",
      "11. /t/privacy\n",
      "12. https://www.youtube.com/about/policies/\n",
      "13. https://www.youtube.com/howyoutubeworks?utm_campaign=ytgen&utm_source=ythp&utm_medium=LeftNav&utm_content=txt&u=https%3A%2F%2Fwww.youtube.com%2Fhowyoutubeworks%3Futm_source%3Dythp%26utm_medium%3DLeftNav%26utm_campaign%3Dytgen\n",
      "14. /new\n"
     ]
    }
   ],
   "source": [
    "response =scraper.fetch_website_links(\"https://www.youtube.com/\")\n",
    "\n",
    "# print links\n",
    "i = 1\n",
    "for link in response:\n",
    "    print(i, end =\". \")\n",
    "    print(link, end ='\\n')\n",
    "    i += 1\n"
   ]
  },
  {
   "cell_type": "markdown",
   "id": "ec4d203c",
   "metadata": {},
   "source": [
    "# Project - Lets use AI models to analyse the website info"
   ]
  },
  {
   "cell_type": "markdown",
   "id": "212a704d",
   "metadata": {},
   "source": [
    "# Define Prompts for models\n",
    "\n",
    "LLM Models like GPT have been trained to receive instructions in a particular way.\n",
    "\n",
    "* They expect to receive:\n",
    "  * **A system prompt** that tells them what task they are performing and what tone they should use\n",
    "  * **A user prompt** -- the conversation starter that they should reply to"
   ]
  },
  {
   "cell_type": "code",
   "execution_count": 57,
   "id": "46d5ae8c",
   "metadata": {},
   "outputs": [],
   "source": [
    "\n",
    "# Define our system prompt - you can experiment with this later, changing the last sentence to 'Respond in markdown in Spanish.\"\n",
    "SYSTEM_PROMPT = \"\"\"\n",
    "    You are a snarky assistant that analyses the contents of website, \n",
    "    and provides a short, snarky, humorous summary, ignoring text that might be navigation related.\n",
    "    Respond in markdown format.\n",
    "    Do not wrap the makdown in code blocks. - respond just with the markdown text. \n",
    "\"\"\"\n",
    "\n",
    "SYSTEM_PROMPT_SPANISH = \"\"\"\n",
    "    You are a snarky assistant that analyses the contents of website, \n",
    "    and provides a short, snarky, humorous summary, ignoring text that might be navigation related.\n",
    "    Respond in markdown format in Spanish.\n",
    "    Do not wrap the makdown in code blocks. - respond just with the markdown text. \n",
    "\"\"\""
   ]
  },
  {
   "cell_type": "code",
   "execution_count": 58,
   "id": "60d39b0c",
   "metadata": {},
   "outputs": [],
   "source": [
    "# Define our user prompt\n",
    "\n",
    "user_prompt_prefix = \"\"\"\n",
    "    Here are the contents of a website.\n",
    "    Provide a short summary of this website.\n",
    "    If it includes news or announcements, then summarize these too.\n",
    "\"\"\""
   ]
  },
  {
   "cell_type": "code",
   "execution_count": 59,
   "id": "68a473f7",
   "metadata": {},
   "outputs": [],
   "source": [
    "# Construct the payload\n",
    "def construct_payload(website_content):\n",
    "    return [\n",
    "        {\"role\": \"system\", \"content\": SYSTEM_PROMPT},\n",
    "        {\"role\":\"user\", \"content\": user_prompt_prefix + website_content}\n",
    "    ]"
   ]
  },
  {
   "cell_type": "markdown",
   "id": "8d513f89",
   "metadata": {},
   "source": [
    "# Setup OpenAI client"
   ]
  },
  {
   "cell_type": "code",
   "execution_count": 60,
   "id": "590d39c5",
   "metadata": {},
   "outputs": [],
   "source": [
    "ollama_base_url = \"http://localhost:11434/v1\"\n",
    "\n",
    "# Initialize OpenAI client\n",
    "client = OpenAI(base_url = ollama_base_url)\n",
    "\n",
    "# Local Models\n",
    "llama3 = \"llama3.2:3b\"\n"
   ]
  },
  {
   "cell_type": "markdown",
   "id": "e8d4fcd9",
   "metadata": {},
   "source": [
    "# Hello world test for llm connectivity"
   ]
  },
  {
   "cell_type": "code",
   "execution_count": 61,
   "id": "46ca4d84",
   "metadata": {},
   "outputs": [
    {
     "name": "stdout",
     "output_type": "stream",
     "text": [
      "The translation of \"Hello, how are you?\" in French is:\n",
      "\n",
      "\"Bonjour, comment ça va ?\"\n",
      "\n",
      "(Note: In France, \"bonjour\" is a more common greeting than in other countries. If you want to use an alternative that's closer to the British way of \"hello\", you can say \"Salut\" or \"Bonjou\". But for formal greetings, \"bonjour\" remains the most appropriate choice.)\n"
     ]
    }
   ],
   "source": [
    "response = client.chat.completions.create(\n",
    "    model=llama3,\n",
    "    messages=[\n",
    "        {\"role\": \"system\", \"content\": \"You are a helpful assistant that translates English to French.\"},\n",
    "        {\"role\": \"user\", \"content\": \"Translate the following English text to French: 'Hello, how are you?'\"},\n",
    "    ]\n",
    ")\n",
    "\n",
    "print(response.choices[0].message.content)"
   ]
  },
  {
   "cell_type": "markdown",
   "id": "01144f36",
   "metadata": {},
   "source": [
    "# Lets integrate the LLM and summarize the website conent"
   ]
  },
  {
   "cell_type": "code",
   "execution_count": 62,
   "id": "cbc9261b",
   "metadata": {},
   "outputs": [],
   "source": [
    "def summarize(url):\n",
    "    # Fetch website content\n",
    "    website_content = scraper.fetch_text_contents(url)\n",
    "\n",
    "    # Construct payload\n",
    "    payload = construct_payload(website_content)\n",
    "\n",
    "    # Call the chat completions endpoint\n",
    "    response = client.chat.completions.create(\n",
    "        model= llama3,\n",
    "        messages=payload\n",
    "    )\n",
    "\n",
    "    # Extract and return the summary from the response\n",
    "    return response.choices[0].message.content"
   ]
  },
  {
   "cell_type": "markdown",
   "id": "1bccbe26",
   "metadata": {},
   "source": [
    "# Lets run the application"
   ]
  },
  {
   "cell_type": "code",
   "execution_count": 63,
   "id": "7f030259",
   "metadata": {},
   "outputs": [
    {
     "name": "stdout",
     "output_type": "stream",
     "text": [
      "A website from Ed Donner, a tech enthusiast and AI expert. Sounds like he's more into coding and experimenting with LLMs than actually being good at DJing. Anyway, it appears he's working on some AI-related projects, including Nebula.io, which aims to help people discover their potential. There are also news articles from 2025 that mention his company and its work in Agentic AI, so apparently, Ed is making waves in the AI space.\n"
     ]
    }
   ],
   "source": [
    "web_summary = summarize(\"https://edwarddonner.com\")\n",
    "\n",
    "print(web_summary)"
   ]
  },
  {
   "cell_type": "markdown",
   "id": "b018a60a",
   "metadata": {},
   "source": [
    "# Using Markdown to display nicely formatted output using markdown"
   ]
  },
  {
   "cell_type": "code",
   "execution_count": 64,
   "id": "b7c9c2dd",
   "metadata": {},
   "outputs": [],
   "source": [
    "# A function to display this nicely in the output, using markdown\n",
    "\n",
    "def display_summary(url):\n",
    "    display(Markdown(summarize(url)))"
   ]
  },
  {
   "cell_type": "code",
   "execution_count": 66,
   "id": "ec0fa115",
   "metadata": {},
   "outputs": [
    {
     "data": {
      "text/markdown": [
       "**The website is like its founder: quirky, enthusiastic, and all about artificial intelligence.** Ed Donner, the \"well, hi there\" guy behind Nebula.io, wants to share his passion for LLMs (Large Language Models) with you, from writing code to DJing (badly). This site discusses AI applications in HR, recruitment, and education, as well as Ed's own projects and ventures. **Major news announcements include upcoming conferences**, like \"AI in Production: Gen AI and Agentic AI on AWS at scale\" scheduled for September 2025."
      ],
      "text/plain": [
       "<IPython.core.display.Markdown object>"
      ]
     },
     "metadata": {},
     "output_type": "display_data"
    }
   ],
   "source": [
    "display_summary(\"https://edwarddonner.com\")"
   ]
  },
  {
   "cell_type": "markdown",
   "id": "aed396f3",
   "metadata": {},
   "source": [
    "# Let's try more websites\n",
    "\n",
    "Note that this will only work on websites that can be scraped using this simplistic approach.\n",
    "\n",
    "Websites that are rendered with Javascript, like React apps, won't show up. Try using Selenium implementation that gets around this. \n",
    "You'll need to read up on installing Selenium (ask ChatGPT!)\n",
    "\n",
    "Also Websites protected with CloudFront (and similar) may give 403 errors.\n",
    "\n",
    "But many websites will work just fine!"
   ]
  },
  {
   "cell_type": "code",
   "execution_count": 67,
   "id": "43b8cc67",
   "metadata": {},
   "outputs": [
    {
     "data": {
      "text/markdown": [
       "**Summary of CNN Website**\n",
       "A never-ending parade of links to various news topics, articles, and videos. Because who doesn't love the thrill of clicking on \"World\" only to find out it's just a page full of other pages?\n",
       "\n",
       "**Breaking News/Announcements**\n",
       "\n",
       "* A non-descript section with a prompt asking users for feedback on ads that didn't quite agree with them.\n",
       "* The obligatory \"Your effort and contribution is appreciated\" message, because someone has to keep the interns happy.\n",
       "* A gazillion links under \"News\", \"World\", \"Politics\", etc., promising to bring you the latest updates on Ukraine-Russia War, Israel-Hamas War, and other similarly-exciting topics.\n",
       "\n",
       "**In Conclusion**\n",
       "CNN: because you deserve to know everything happening in the world, no matter how dry or uninteresting."
      ],
      "text/plain": [
       "<IPython.core.display.Markdown object>"
      ]
     },
     "metadata": {},
     "output_type": "display_data"
    }
   ],
   "source": [
    "display_summary(\"https://cnn.com\")"
   ]
  },
  {
   "cell_type": "code",
   "execution_count": 68,
   "id": "50ff2d00",
   "metadata": {},
   "outputs": [
    {
     "data": {
      "text/markdown": [
       "**Summary of Anthropic Website**\n",
       "Anthropic is a public benefit corporation that aims to harness the benefits of AI and mitigate its risks. They offer various products, including the Claude model, which is touted as the best model for agents, coding, and computer use.\n",
       "\n",
       "**News and Announcements**\n",
       "\n",
       "* **Claude Sonnet 4.5**: A new AI model that \"introduces the best model in the world for agents, coding, and computer use.\"\n",
       "* **Introducing Claude Haiku 4.5**: Another new model that enables more effective context management on the Claude Developer Platform.\n",
       "* Various announcements about learning more about these models and their capabilities.\n",
       "\n",
       "**Miscellaneous**\n",
       "The website seems to be focused heavily on AI research, products, and security, with an emphasis on responsible scaling and a commitment to safety. The tone is rather serious and intentional, suggesting a organization that takes its mission very seriously."
      ],
      "text/plain": [
       "<IPython.core.display.Markdown object>"
      ]
     },
     "metadata": {},
     "output_type": "display_data"
    }
   ],
   "source": [
    "display_summary(\"https://anthropic.com\")"
   ]
  }
 ],
 "metadata": {
  "kernelspec": {
   "display_name": "LLM Eng (.venv)",
   "language": "python",
   "name": "llm-eng"
  },
  "language_info": {
   "codemirror_mode": {
    "name": "ipython",
    "version": 3
   },
   "file_extension": ".py",
   "mimetype": "text/x-python",
   "name": "python",
   "nbconvert_exporter": "python",
   "pygments_lexer": "ipython3",
   "version": "3.12.12"
  }
 },
 "nbformat": 4,
 "nbformat_minor": 5
}
